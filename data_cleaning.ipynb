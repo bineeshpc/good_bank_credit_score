{
 "cells": [
  {
   "cell_type": "code",
   "execution_count": 173,
   "metadata": {},
   "outputs": [],
   "source": [
    "import pandas as pd\n",
    "import numpy as np\n",
    "import warnings\n",
    "warnings.filterwarnings(\"ignore\")"
   ]
  },
  {
   "cell_type": "code",
   "execution_count": 174,
   "metadata": {},
   "outputs": [],
   "source": [
    "data = pd.read_csv(\"data/data_joined.csv\")"
   ]
  },
  {
   "cell_type": "code",
   "execution_count": 175,
   "metadata": {},
   "outputs": [
    {
     "data": {
      "text/html": [
       "<div>\n",
       "<style scoped>\n",
       "    .dataframe tbody tr th:only-of-type {\n",
       "        vertical-align: middle;\n",
       "    }\n",
       "\n",
       "    .dataframe tbody tr th {\n",
       "        vertical-align: top;\n",
       "    }\n",
       "\n",
       "    .dataframe thead th {\n",
       "        text-align: right;\n",
       "    }\n",
       "</style>\n",
       "<table border=\"1\" class=\"dataframe\">\n",
       "  <thead>\n",
       "    <tr style=\"text-align: right;\">\n",
       "      <th></th>\n",
       "      <th>customer_no</th>\n",
       "      <th>Bad_label</th>\n",
       "      <th>acct_type</th>\n",
       "      <th>actualpaymentamount</th>\n",
       "      <th>amt_past_due</th>\n",
       "      <th>cashlimit</th>\n",
       "      <th>closed_dt</th>\n",
       "      <th>creditlimit</th>\n",
       "      <th>cur_balance_amt</th>\n",
       "      <th>dt_opened</th>\n",
       "      <th>...</th>\n",
       "      <th>opened_dt</th>\n",
       "      <th>owner_indic</th>\n",
       "      <th>paymentfrequency</th>\n",
       "      <th>paymenthistory1</th>\n",
       "      <th>paymenthistory2</th>\n",
       "      <th>paymt_end_dt</th>\n",
       "      <th>paymt_str_dt</th>\n",
       "      <th>rateofinterest</th>\n",
       "      <th>reporting_dt</th>\n",
       "      <th>upload_dt</th>\n",
       "    </tr>\n",
       "  </thead>\n",
       "  <tbody>\n",
       "    <tr>\n",
       "      <th>0</th>\n",
       "      <td>1</td>\n",
       "      <td>[nan, nan, nan, nan, nan, nan, nan, nan, nan, ...</td>\n",
       "      <td>['10', '10', '10', '10', '10', '10', '2', '2',...</td>\n",
       "      <td>['', '25100', '', '', '', '45986', '', '', '',...</td>\n",
       "      <td>['2528846', '', '', '', '', '', '', '', '', ''...</td>\n",
       "      <td>['', '', '', '', '', '168000', '', '', '', '',...</td>\n",
       "      <td>['', '', '05-Mar-09', '08-Jan-07', '03-May-10'...</td>\n",
       "      <td>['', '250000', '', '', '', '420000', '', '', '...</td>\n",
       "      <td>['2528846', '58882', '0', '0', '0', '37598', '...</td>\n",
       "      <td>['18-Apr-15', '18-Apr-15', '18-Apr-15', '18-Ap...</td>\n",
       "      <td>...</td>\n",
       "      <td>['26-May-00', '28-Feb-14', '02-May-06', '12-De...</td>\n",
       "      <td>['1', '1', '1', '1', '1', '1', '1', '4', '1', ...</td>\n",
       "      <td>['', '3', '', '', '', '3', '3', '', '', '', '3...</td>\n",
       "      <td>['\"\"\"181181181181181181XXX18118118118118118118...</td>\n",
       "      <td>['\"\"\"181181181XXXXXX181181XXXXXXXXXXXX18118118...</td>\n",
       "      <td>['01-Mar-12', '01-Feb-14', '01-Jul-07', '01-De...</td>\n",
       "      <td>['01-Feb-15', '01-Feb-15', '01-Mar-09', '01-Ja...</td>\n",
       "      <td>['', '', '', '', '', '', '8', '', '', '', '8.7...</td>\n",
       "      <td>['27-Feb-15', '28-Feb-15', '28-Feb-13', '31-Ju...</td>\n",
       "      <td>['21-Apr-15', '21-Apr-15', '21-Apr-15', '21-Ap...</td>\n",
       "    </tr>\n",
       "  </tbody>\n",
       "</table>\n",
       "<p>1 rows × 105 columns</p>\n",
       "</div>"
      ],
      "text/plain": [
       "   customer_no                                          Bad_label  \\\n",
       "0            1  [nan, nan, nan, nan, nan, nan, nan, nan, nan, ...   \n",
       "\n",
       "                                           acct_type  \\\n",
       "0  ['10', '10', '10', '10', '10', '10', '2', '2',...   \n",
       "\n",
       "                                 actualpaymentamount  \\\n",
       "0  ['', '25100', '', '', '', '45986', '', '', '',...   \n",
       "\n",
       "                                        amt_past_due  \\\n",
       "0  ['2528846', '', '', '', '', '', '', '', '', ''...   \n",
       "\n",
       "                                           cashlimit  \\\n",
       "0  ['', '', '', '', '', '168000', '', '', '', '',...   \n",
       "\n",
       "                                           closed_dt  \\\n",
       "0  ['', '', '05-Mar-09', '08-Jan-07', '03-May-10'...   \n",
       "\n",
       "                                         creditlimit  \\\n",
       "0  ['', '250000', '', '', '', '420000', '', '', '...   \n",
       "\n",
       "                                     cur_balance_amt  \\\n",
       "0  ['2528846', '58882', '0', '0', '0', '37598', '...   \n",
       "\n",
       "                                           dt_opened  ...  \\\n",
       "0  ['18-Apr-15', '18-Apr-15', '18-Apr-15', '18-Ap...  ...   \n",
       "\n",
       "                                           opened_dt  \\\n",
       "0  ['26-May-00', '28-Feb-14', '02-May-06', '12-De...   \n",
       "\n",
       "                                         owner_indic  \\\n",
       "0  ['1', '1', '1', '1', '1', '1', '1', '4', '1', ...   \n",
       "\n",
       "                                    paymentfrequency  \\\n",
       "0  ['', '3', '', '', '', '3', '3', '', '', '', '3...   \n",
       "\n",
       "                                     paymenthistory1  \\\n",
       "0  ['\"\"\"181181181181181181XXX18118118118118118118...   \n",
       "\n",
       "                                     paymenthistory2  \\\n",
       "0  ['\"\"\"181181181XXXXXX181181XXXXXXXXXXXX18118118...   \n",
       "\n",
       "                                        paymt_end_dt  \\\n",
       "0  ['01-Mar-12', '01-Feb-14', '01-Jul-07', '01-De...   \n",
       "\n",
       "                                        paymt_str_dt  \\\n",
       "0  ['01-Feb-15', '01-Feb-15', '01-Mar-09', '01-Ja...   \n",
       "\n",
       "                                      rateofinterest  \\\n",
       "0  ['', '', '', '', '', '', '8', '', '', '', '8.7...   \n",
       "\n",
       "                                        reporting_dt  \\\n",
       "0  ['27-Feb-15', '28-Feb-15', '28-Feb-13', '31-Ju...   \n",
       "\n",
       "                                           upload_dt  \n",
       "0  ['21-Apr-15', '21-Apr-15', '21-Apr-15', '21-Ap...  \n",
       "\n",
       "[1 rows x 105 columns]"
      ]
     },
     "execution_count": 175,
     "metadata": {},
     "output_type": "execute_result"
    }
   ],
   "source": [
    "data.head(1)"
   ]
  },
  {
   "cell_type": "code",
   "execution_count": 176,
   "metadata": {},
   "outputs": [],
   "source": [
    "def get_int_values(x):\n",
    "    values = []\n",
    "    for i in x:\n",
    "        try:\n",
    "            y = int(i)\n",
    "            values.append(y)\n",
    "        except:\n",
    "            pass\n",
    "    return values\n",
    "\n",
    "def get_correct_label(x):    \n",
    "    return max(get_int_values(x))\n",
    "\n",
    "def get_unique(x):\n",
    "    return list(set(x))\n",
    "\n",
    "def get_unique_int(x):\n",
    "    return np.unique(get_int_values(x))"
   ]
  },
  {
   "cell_type": "code",
   "execution_count": 177,
   "metadata": {},
   "outputs": [
    {
     "data": {
      "text/plain": [
       "0"
      ]
     },
     "execution_count": 177,
     "metadata": {},
     "output_type": "execute_result"
    }
   ],
   "source": [
    "data.isnull().sum().sum()"
   ]
  },
  {
   "cell_type": "code",
   "execution_count": 178,
   "metadata": {},
   "outputs": [],
   "source": [
    "data_copy = data.copy()"
   ]
  },
  {
   "cell_type": "code",
   "execution_count": 179,
   "metadata": {
    "scrolled": true
   },
   "outputs": [],
   "source": [
    "data['Bad_label'] = data_copy['Bad_label'].apply(get_correct_label)"
   ]
  },
  {
   "cell_type": "code",
   "execution_count": 180,
   "metadata": {},
   "outputs": [],
   "source": [
    "data['acct_type'] = data_copy['acct_type'].apply(get_unique_int)\n",
    "max_count = data['acct_type'].map(lambda x: len(x)).max()\n",
    "acct_type_columns = [f\"acct_type_{i}\" for i in range(max_count)]\n",
    "\n",
    "def get_count_values(values, count):\n",
    "    \n",
    "    a = np.repeat(-1, count)\n",
    "    a[0:len(values)] = values\n",
    "    return a"
   ]
  },
  {
   "cell_type": "code",
   "execution_count": 181,
   "metadata": {},
   "outputs": [],
   "source": [
    "data[acct_type_columns] = data.apply(lambda x: get_count_values(x['acct_type'], max_count), axis=1, result_type='expand')\n",
    "data.drop('acct_type', axis=1, inplace=True)"
   ]
  },
  {
   "cell_type": "code",
   "execution_count": 190,
   "metadata": {},
   "outputs": [
    {
     "name": "stdout",
     "output_type": "stream",
     "text": [
      "customer_no\n",
      "1\n",
      "Bad_label\n",
      "0\n",
      "actualpaymentamount\n",
      "['', '25100', '', '', '', '45986', '', '', '', '', '', '', '', '', '', '', '', '', nan, nan, nan, nan, nan, nan, nan, nan, nan, nan, nan, nan, nan, nan, nan, nan, nan, nan, nan]\n",
      "amt_past_due\n",
      "['2528846', '', '', '', '', '', '', '', '', '', '', '', '', '9363', '', '', '', '', nan, nan, nan, nan, nan, nan, nan, nan, nan, nan, nan, nan, nan, nan, nan, nan, nan, nan, nan]\n",
      "cashlimit\n",
      "['', '', '', '', '', '168000', '', '', '', '', '', '', '', '', '', '', '', '', nan, nan, nan, nan, nan, nan, nan, nan, nan, nan, nan, nan, nan, nan, nan, nan, nan, nan, nan]\n",
      "closed_dt\n",
      "['', '', '05-Mar-09', '08-Jan-07', '03-May-10', '', '', '', '02-Jan-07', '21-Sep-12', '', '29-Dec-11', '24-Jun-04', '18-Mar-03', '23-Jan-03', '07-Jun-01', '30-Apr-98', '20-Jun-96', nan, nan, nan, nan, nan, nan, nan, nan, nan, nan, nan, nan, nan, nan, nan, nan, nan, nan, nan]\n",
      "creditlimit\n",
      "['', '250000', '', '', '', '420000', '', '', '', '', '', '', '', '', '', '', '', '', nan, nan, nan, nan, nan, nan, nan, nan, nan, nan, nan, nan, nan, nan, nan, nan, nan, nan, nan]\n",
      "cur_balance_amt\n",
      "['2528846', '58882', '0', '0', '0', '37598', '325490', '1754678', '0', '0', '0', '0', '0', '9363', '0', '0', '0', '0', nan, nan, nan, nan, nan, nan, nan, nan, nan, nan, nan, nan, nan, nan, nan, nan, nan, nan, nan]\n",
      "dt_opened\n",
      "['18-Apr-15', '18-Apr-15', '18-Apr-15', '18-Apr-15', '18-Apr-15', '18-Apr-15', '18-Apr-15', '18-Apr-15', '18-Apr-15', '18-Apr-15', '18-Apr-15', '18-Apr-15', '18-Apr-15', '18-Apr-15', '18-Apr-15', '18-Apr-15', '18-Apr-15', '18-Apr-15', '18-Apr-15', '18-Apr-15', '18-Apr-15', '18-Apr-15', '18-Apr-15', '18-Apr-15', '18-Apr-15', '18-Apr-15', '18-Apr-15', '18-Apr-15', '18-Apr-15', '18-Apr-15', '18-Apr-15', '18-Apr-15', '18-Apr-15', '18-Apr-15', '18-Apr-15', '18-Apr-15', '18-Apr-15']\n",
      "enq_amt\n",
      "[nan, nan, nan, nan, nan, nan, nan, nan, nan, nan, nan, nan, nan, nan, nan, nan, nan, nan, nan, '3500000', '500000', '50000', '50000', '1000', '1000', '1000', '1000', '1000', '150', '50000', '100000', '300000', '50000', '50000', '1000', '25000', '300000']\n",
      "enq_purpose\n",
      "[nan, nan, nan, nan, nan, nan, nan, nan, nan, nan, nan, nan, nan, nan, nan, nan, nan, nan, nan, '2', '5', '0', '10', '10', '10', '10', '10', '10', '10', '10', '10', '10', '0', '10', '10', '10', '10']\n",
      "enquiry_dt\n",
      "[nan, nan, nan, nan, nan, nan, nan, nan, nan, nan, nan, nan, nan, nan, nan, nan, nan, nan, nan, '19-Dec-14', '05-Mar-14', '05-Mar-14', '22-Feb-14', '11-Jun-13', '08-Feb-13', '30-Nov-12', '30-May-12', '24-May-11', '10-Nov-10', '15-Apr-10', '29-Apr-09', '28-Feb-09', '17-Dec-08', '08-Dec-08', '06-Dec-08', '25-Jul-08', '27-May-08']\n",
      "entry_time\n",
      "[nan, nan, nan, nan, nan, nan, nan, nan, nan, nan, nan, nan, nan, nan, nan, nan, nan, nan, '13-Apr-15', nan, nan, nan, nan, nan, nan, nan, nan, nan, nan, nan, nan, nan, nan, nan, nan, nan, nan]\n",
      "high_credit_amt\n",
      "['2528846', '125459', '139765', '', '171256', '290596', '2000000', '2000000', '93000', '14700', '', '200000', '211135', '', '75000', '27500', '11320', '11486', nan, nan, nan, nan, nan, nan, nan, nan, nan, nan, nan, nan, nan, nan, nan, nan, nan, nan, nan]\n",
      "last_paymt_dt\n",
      "['28-Feb-03', '03-Feb-15', '', '', '13-Apr-10', '07-Mar-15', '27-Sep-14', '02-Jun-06', '07-Dec-06', '15-May-02', '', '15-Sep-11', '20-Nov-03', '', '', '', '', '', nan, nan, nan, nan, nan, nan, nan, nan, nan, nan, nan, nan, nan, nan, nan, nan, nan, nan, nan]\n",
      "opened_dt\n",
      "['26-May-00', '28-Feb-14', '02-May-06', '12-Dec-05', '09-May-05', '09-May-05', '07-Feb-05', '07-Feb-05', '08-Dec-03', '13-Jun-01', '', '05-Dec-06', '06-Jan-01', '07-Nov-00', '31-Oct-99', '27-May-99', '27-Jul-96', '20-Jun-96', nan, nan, nan, nan, nan, nan, nan, nan, nan, nan, nan, nan, nan, nan, nan, nan, nan, nan, nan]\n",
      "owner_indic\n",
      "['1', '1', '1', '1', '1', '1', '1', '4', '1', '1', '1', '1', '1', '1', '1', '1', '1', '1', nan, nan, nan, nan, nan, nan, nan, nan, nan, nan, nan, nan, nan, nan, nan, nan, nan, nan, nan]\n",
      "paymentfrequency\n",
      "['', '3', '', '', '', '3', '3', '', '', '', '3', '3', '', '', '', '3', '3', '', nan, nan, nan, nan, nan, nan, nan, nan, nan, nan, nan, nan, nan, nan, nan, nan, nan, nan, nan]\n",
      "paymenthistory1\n",
      "['\"\"\"181181181181181181XXX181181181181181181181181181XXX181\"\"\"', '\"\"\"000000000000000000000000000000000000000\"\"\"', '\"\"\"000000000000000000000000000000000000000XXX000000000000\"\"\"', '\"\"\"STDSTDSTDXXXSTDSTDSTDSTDXXXXXXSTDSTDSTDSTD\"\"\"', '\"\"\"000000000000000000000000000000000000000000000000000000\"\"\"', '\"\"\"000000000000000000000000000000000000000000000000000000\"\"\"', '\"\"\"STDSTDSTDSTDSTDSTDSTDSTDSTDSTDSTDSTDSTDSTDSTDSTDSTDSTD\"\"\"', '\"\"\"000XXXXXX000XXXXXX000XXXXXX000\"\"\"', '\"\"\"000\"\"\"', '\"\"\"000000000000000000000000000000000000000000000000000000\"\"\"', '\"\"\"STD\"\"\"', '\"\"\"XXXXXXXXX000XXXXXX000XXXXXX000XXXXXX000XXXXXX000\"\"\"', '\"\"\"XXX\"\"\"', '\"\"\"XXX\"\"\"', '\"\"\"XXX\"\"\"', '\"\"\"XXX\"\"\"', '\"\"\"XXX\"\"\"', '\"\"\"XXX\"\"\"', nan, nan, nan, nan, nan, nan, nan, nan, nan, nan, nan, nan, nan, nan, nan, nan, nan, nan, nan]\n",
      "paymenthistory2\n",
      "['\"\"\"181181181XXXXXX181181XXXXXXXXXXXX181181181XXXXXXXXXXXX\"\"\"', '', '\"\"\"000000000\"\"\"', '', '\"\"\"000000000XXX000XXX000\"\"\"', '\"\"\"000000000000000000000000000000000000000000000000\"\"\"', '\"\"\"STDSTDSTDSTDSTDSTDXXXSTDSTDSTDSTDSTDSTDSTDXXXXXXXXX000\"\"\"', '', '', '\"\"\"000000000000XXX000XXX000XXX000XXX000000000XXX000000XXX\"\"\"', '', '', '', '', '', '', '', '', nan, nan, nan, nan, nan, nan, nan, nan, nan, nan, nan, nan, nan, nan, nan, nan, nan, nan, nan]\n",
      "paymt_end_dt\n",
      "['01-Mar-12', '01-Feb-14', '01-Jul-07', '01-Dec-05', '01-May-08', '01-Jun-12', '01-Mar-12', '01-Sep-05', '01-Jan-07', '01-Oct-09', '01-Jul-12', '01-Sep-10', '01-Jun-04', '01-Mar-03', '01-Jan-03', '01-Jun-01', '01-Apr-98', '01-Jun-96', nan, nan, nan, nan, nan, nan, nan, nan, nan, nan, nan, nan, nan, nan, nan, nan, nan, nan, nan]\n",
      "paymt_str_dt\n",
      "['01-Feb-15', '01-Feb-15', '01-Mar-09', '01-Jan-07', '01-May-10', '01-Mar-15', '01-Feb-15', '01-Jun-06', '01-Jan-07', '01-Sep-12', '01-Jul-12', '01-Dec-11', '01-Jun-04', '01-Mar-03', '01-Jan-03', '01-Jun-01', '01-Apr-98', '01-Jun-96', nan, nan, nan, nan, nan, nan, nan, nan, nan, nan, nan, nan, nan, nan, nan, nan, nan, nan, nan]\n",
      "rateofinterest\n",
      "['', '', '', '', '', '', '8', '', '', '', '8.75', '9.75', '', '', '', '27.469', '34.585', '', nan, nan, nan, nan, nan, nan, nan, nan, nan, nan, nan, nan, nan, nan, nan, nan, nan, nan, nan]\n",
      "reporting_dt\n",
      "['27-Feb-15', '28-Feb-15', '28-Feb-13', '31-Jul-07', '31-May-12', '13-Mar-15', '28-Feb-15', '30-Jun-06', '31-Dec-09', '30-Sep-12', '31-Jul-12', '31-Jul-12', '01-Oct-10', '19-Apr-10', '30-Sep-10', '31-Dec-12', '31-Dec-12', '30-Sep-10', nan, nan, nan, nan, nan, nan, nan, nan, nan, nan, nan, nan, nan, nan, nan, nan, nan, nan, nan]\n",
      "upload_dt\n",
      "['21-Apr-15', '21-Apr-15', '21-Apr-15', '21-Apr-15', '21-Apr-15', '21-Apr-15', '21-Apr-15', '21-Apr-15', '21-Apr-15', '21-Apr-15', '21-Apr-15', '21-Apr-15', '21-Apr-15', '21-Apr-15', '21-Apr-15', '21-Apr-15', '21-Apr-15', '21-Apr-15', nan, '21-Apr-15', '21-Apr-15', '21-Apr-15', '21-Apr-15', '21-Apr-15', '21-Apr-15', '21-Apr-15', '21-Apr-15', '21-Apr-15', '21-Apr-15', '21-Apr-15', '21-Apr-15', '21-Apr-15', '21-Apr-15', '21-Apr-15', '21-Apr-15', '21-Apr-15', '21-Apr-15']\n",
      "acct_type_0\n",
      "0\n",
      "acct_type_1\n",
      "1\n",
      "acct_type_2\n",
      "2\n",
      "acct_type_3\n",
      "5\n",
      "acct_type_4\n",
      "6\n",
      "acct_type_5\n",
      "-1\n",
      "acct_type_6\n",
      "-1\n",
      "acct_type_7\n",
      "-1\n"
     ]
    }
   ],
   "source": [
    "for column in data.columns:\n",
    "    if 'feature' not in column:\n",
    "        print(column)\n",
    "        print(data[column].head(1)[0])\n"
   ]
  },
  {
   "cell_type": "code",
   "execution_count": 182,
   "metadata": {
    "scrolled": true
   },
   "outputs": [
    {
     "data": {
      "text/html": [
       "<div>\n",
       "<style scoped>\n",
       "    .dataframe tbody tr th:only-of-type {\n",
       "        vertical-align: middle;\n",
       "    }\n",
       "\n",
       "    .dataframe tbody tr th {\n",
       "        vertical-align: top;\n",
       "    }\n",
       "\n",
       "    .dataframe thead th {\n",
       "        text-align: right;\n",
       "    }\n",
       "</style>\n",
       "<table border=\"1\" class=\"dataframe\">\n",
       "  <thead>\n",
       "    <tr style=\"text-align: right;\">\n",
       "      <th></th>\n",
       "      <th>customer_no</th>\n",
       "      <th>Bad_label</th>\n",
       "      <th>actualpaymentamount</th>\n",
       "      <th>amt_past_due</th>\n",
       "      <th>cashlimit</th>\n",
       "      <th>closed_dt</th>\n",
       "      <th>creditlimit</th>\n",
       "      <th>cur_balance_amt</th>\n",
       "      <th>dt_opened</th>\n",
       "      <th>enq_amt</th>\n",
       "      <th>...</th>\n",
       "      <th>reporting_dt</th>\n",
       "      <th>upload_dt</th>\n",
       "      <th>acct_type_0</th>\n",
       "      <th>acct_type_1</th>\n",
       "      <th>acct_type_2</th>\n",
       "      <th>acct_type_3</th>\n",
       "      <th>acct_type_4</th>\n",
       "      <th>acct_type_5</th>\n",
       "      <th>acct_type_6</th>\n",
       "      <th>acct_type_7</th>\n",
       "    </tr>\n",
       "  </thead>\n",
       "  <tbody>\n",
       "    <tr>\n",
       "      <th>0</th>\n",
       "      <td>1</td>\n",
       "      <td>0</td>\n",
       "      <td>['', '25100', '', '', '', '45986', '', '', '',...</td>\n",
       "      <td>['2528846', '', '', '', '', '', '', '', '', ''...</td>\n",
       "      <td>['', '', '', '', '', '168000', '', '', '', '',...</td>\n",
       "      <td>['', '', '05-Mar-09', '08-Jan-07', '03-May-10'...</td>\n",
       "      <td>['', '250000', '', '', '', '420000', '', '', '...</td>\n",
       "      <td>['2528846', '58882', '0', '0', '0', '37598', '...</td>\n",
       "      <td>['18-Apr-15', '18-Apr-15', '18-Apr-15', '18-Ap...</td>\n",
       "      <td>[nan, nan, nan, nan, nan, nan, nan, nan, nan, ...</td>\n",
       "      <td>...</td>\n",
       "      <td>['27-Feb-15', '28-Feb-15', '28-Feb-13', '31-Ju...</td>\n",
       "      <td>['21-Apr-15', '21-Apr-15', '21-Apr-15', '21-Ap...</td>\n",
       "      <td>0</td>\n",
       "      <td>1</td>\n",
       "      <td>2</td>\n",
       "      <td>5</td>\n",
       "      <td>6</td>\n",
       "      <td>-1</td>\n",
       "      <td>-1</td>\n",
       "      <td>-1</td>\n",
       "    </tr>\n",
       "  </tbody>\n",
       "</table>\n",
       "<p>1 rows × 112 columns</p>\n",
       "</div>"
      ],
      "text/plain": [
       "   customer_no  Bad_label                                actualpaymentamount  \\\n",
       "0            1          0  ['', '25100', '', '', '', '45986', '', '', '',...   \n",
       "\n",
       "                                        amt_past_due  \\\n",
       "0  ['2528846', '', '', '', '', '', '', '', '', ''...   \n",
       "\n",
       "                                           cashlimit  \\\n",
       "0  ['', '', '', '', '', '168000', '', '', '', '',...   \n",
       "\n",
       "                                           closed_dt  \\\n",
       "0  ['', '', '05-Mar-09', '08-Jan-07', '03-May-10'...   \n",
       "\n",
       "                                         creditlimit  \\\n",
       "0  ['', '250000', '', '', '', '420000', '', '', '...   \n",
       "\n",
       "                                     cur_balance_amt  \\\n",
       "0  ['2528846', '58882', '0', '0', '0', '37598', '...   \n",
       "\n",
       "                                           dt_opened  \\\n",
       "0  ['18-Apr-15', '18-Apr-15', '18-Apr-15', '18-Ap...   \n",
       "\n",
       "                                             enq_amt  ...  \\\n",
       "0  [nan, nan, nan, nan, nan, nan, nan, nan, nan, ...  ...   \n",
       "\n",
       "                                        reporting_dt  \\\n",
       "0  ['27-Feb-15', '28-Feb-15', '28-Feb-13', '31-Ju...   \n",
       "\n",
       "                                           upload_dt acct_type_0 acct_type_1  \\\n",
       "0  ['21-Apr-15', '21-Apr-15', '21-Apr-15', '21-Ap...           0           1   \n",
       "\n",
       "  acct_type_2 acct_type_3 acct_type_4 acct_type_5 acct_type_6 acct_type_7  \n",
       "0           2           5           6          -1          -1          -1  \n",
       "\n",
       "[1 rows x 112 columns]"
      ]
     },
     "execution_count": 182,
     "metadata": {},
     "output_type": "execute_result"
    }
   ],
   "source": [
    "data.head(1)"
   ]
  },
  {
   "cell_type": "code",
   "execution_count": 183,
   "metadata": {},
   "outputs": [
    {
     "data": {
      "text/plain": [
       "Index(['customer_no', 'Bad_label', 'actualpaymentamount', 'amt_past_due',\n",
       "       'cashlimit', 'closed_dt', 'creditlimit', 'cur_balance_amt', 'dt_opened',\n",
       "       'enq_amt',\n",
       "       ...\n",
       "       'reporting_dt', 'upload_dt', 'acct_type_0', 'acct_type_1',\n",
       "       'acct_type_2', 'acct_type_3', 'acct_type_4', 'acct_type_5',\n",
       "       'acct_type_6', 'acct_type_7'],\n",
       "      dtype='object', length=112)"
      ]
     },
     "execution_count": 183,
     "metadata": {},
     "output_type": "execute_result"
    }
   ],
   "source": [
    "data.columns"
   ]
  }
 ],
 "metadata": {
  "kernelspec": {
   "display_name": "Python 3",
   "language": "python",
   "name": "python3"
  },
  "language_info": {
   "codemirror_mode": {
    "name": "ipython",
    "version": 3
   },
   "file_extension": ".py",
   "mimetype": "text/x-python",
   "name": "python",
   "nbconvert_exporter": "python",
   "pygments_lexer": "ipython3",
   "version": "3.7.3"
  }
 },
 "nbformat": 4,
 "nbformat_minor": 2
}
