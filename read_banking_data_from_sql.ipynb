{
 "cells": [
  {
   "cell_type": "markdown",
   "metadata": {},
   "source": [
    "# Read data from sql"
   ]
  },
  {
   "cell_type": "code",
   "execution_count": 1,
   "metadata": {},
   "outputs": [],
   "source": [
    "%matplotlib inline\n",
    "from sqlalchemy import create_engine\n",
    "import json\n",
    "import pandas as pd\n",
    "import warnings\n",
    "warnings.filterwarnings(\"ignore\")\n"
   ]
  },
  {
   "cell_type": "code",
   "execution_count": 2,
   "metadata": {},
   "outputs": [],
   "source": [
    "\n",
    "db_credentials = json.loads(open('database_credentials.json').read())"
   ]
  },
  {
   "cell_type": "code",
   "execution_count": 3,
   "metadata": {},
   "outputs": [],
   "source": [
    "cred_string = ('mysql+pymysql://' +\n",
    "               db_credentials['username'] +\n",
    "               ':' +\n",
    "               db_credentials['user_pass'] +\n",
    "               '@' +\n",
    "               db_credentials['db_host'] +\n",
    "               '/' +\n",
    "               db_credentials['db_name']\n",
    "              )\n",
    "\n",
    "conn = create_engine(cred_string)\n",
    "conn.table_names()\n",
    "table_account, table_demographics, table_enquiries = conn.table_names()"
   ]
  },
  {
   "cell_type": "code",
   "execution_count": 28,
   "metadata": {},
   "outputs": [],
   "source": [
    "table_contents = []\n",
    "for table in conn.table_names():\n",
    "    query = f\"select * from {table}\"\n",
    "    table_content = pd.read_sql(query,conn)\n",
    "    table_contents.append(table_content)"
   ]
  },
  {
   "cell_type": "code",
   "execution_count": 5,
   "metadata": {},
   "outputs": [
    {
     "name": "stdout",
     "output_type": "stream",
     "text": [
      "<class 'pandas.core.frame.DataFrame'>\n",
      "(186329, 21)\n",
      "<class 'pandas.core.frame.DataFrame'>\n",
      "(23896, 83)\n",
      "<class 'pandas.core.frame.DataFrame'>\n",
      "(413188, 6)\n"
     ]
    }
   ],
   "source": [
    "for table_content in table_contents:\n",
    "    print(type(table_content))\n",
    "    print(table_content.shape)\n",
    "    "
   ]
  },
  {
   "cell_type": "code",
   "execution_count": 6,
   "metadata": {
    "scrolled": false
   },
   "outputs": [
    {
     "name": "stdout",
     "output_type": "stream",
     "text": [
      "   dt_opened customer_no  upload_dt acct_type owner_indic  opened_dt  \\\n",
      "0  10-Nov-15       12265  20-Oct-15         6           1  09-Jun-13   \n",
      "1  10-Nov-15       12265  20-Oct-15        10           1  25-May-12   \n",
      "2  10-Nov-15       12265  20-Oct-15        10           1  22-Mar-12   \n",
      "3  20-Jul-15       15606  09-Jul-15        10           1  13-Jan-06   \n",
      "4  20-Jul-15       15606  09-Jul-15         6           1  18-Jan-15   \n",
      "\n",
      "  last_paymt_dt  closed_dt reporting_dt high_credit_amt  ... amt_past_due  \\\n",
      "0     30-Jun-14  05-Jul-14    30-Sep-15           20900  ...                \n",
      "1     06-Sep-15               03-Oct-15           16201  ...                \n",
      "2     31-Aug-15               30-Sep-15           41028  ...                \n",
      "3                26-Jul-07    31-Jan-09           93473  ...                \n",
      "4     05-May-15               31-May-15           20250  ...                \n",
      "\n",
      "                                     paymenthistory1  \\\n",
      "0  \"\"\"STDSTDSTDXXXXXXXXXXXXXXXSTDXXXXXXXXXXXXXXXS...   \n",
      "1  \"\"\"0000000000000000000000000000000000000000000...   \n",
      "2  \"\"\"0000000000000000000000000000000000000000000...   \n",
      "3  \"\"\"1200900600600600300000000000000000000000000...   \n",
      "4                              \"\"\"000000000000000\"\"\"   \n",
      "\n",
      "                                     paymenthistory2 paymt_str_dt  \\\n",
      "0                                                       01-Sep-15   \n",
      "1  \"\"\"000000000000000000000000000XXX0000000000000...    01-Oct-15   \n",
      "2  \"\"\"0000000000000000000000000000000000000000000...    01-Sep-15   \n",
      "3                                                       01-Jul-07   \n",
      "4                                                       01-May-15   \n",
      "\n",
      "  paymt_end_dt creditlimit cashlimit rateofinterest paymentfrequency  \\\n",
      "0    01-Jul-14                                                         \n",
      "1    01-Nov-12       14000      1400                               3   \n",
      "2    01-Oct-12                                                         \n",
      "3    01-Feb-06                                                         \n",
      "4    01-Jan-15                                                         \n",
      "\n",
      "  actualpaymentamount  \n",
      "0                      \n",
      "1                5603  \n",
      "2                      \n",
      "3                      \n",
      "4                      \n",
      "\n",
      "[5 rows x 21 columns]\n",
      "   dt_opened customer_no entry_time feature_1  feature_2 feature_3 feature_4  \\\n",
      "0  18-Apr-15           1  13-Apr-15  Insignia  13-Apr-15       650         2   \n",
      "1  21-Apr-15           2  21-Apr-15  Insignia  21-Apr-15       760         1   \n",
      "2  22-Apr-15           3  21-Apr-15  Insignia  21-Apr-15       774         1   \n",
      "3  25-Apr-15           4  15-Apr-15  Insignia  20-Apr-15       770         1   \n",
      "4  06-May-15           5  30-Apr-15  Insignia                              3   \n",
      "\n",
      "    feature_5 feature_6 feature_7  ... feature_71 feature_72 feature_73  \\\n",
      "0  Card Setup        14    500000  ...         21          R              \n",
      "1  Card Setup        14   1200000  ...         17          R              \n",
      "2  Card Setup        14    700000  ...         17          R              \n",
      "3  Card Setup        14    500000  ...         21          R              \n",
      "4  Card Setup        14    500000  ...         13          R              \n",
      "\n",
      "  feature_74  feature_75 feature_76  feature_77 feature_78 feature_79  \\\n",
      "0             0000-00-00          0  98332XXXXX          1          N   \n",
      "1             0000-00-00          0  99455XXXXX          1          N   \n",
      "2             0000-00-00          0  98456XXXXX          1          N   \n",
      "3                6/15/65          1  98220XXXXX          1          N   \n",
      "4             0000-00-00          0  98111XXXXX          1          N   \n",
      "\n",
      "  Bad_label  \n",
      "0         0  \n",
      "1         0  \n",
      "2         0  \n",
      "3         0  \n",
      "4         0  \n",
      "\n",
      "[5 rows x 83 columns]\n",
      "   dt_opened customer_no  upload_dt enquiry_dt enq_purpose  enq_amt\n",
      "0  18-Apr-15           1  21-Apr-15  19-Dec-14           2  3500000\n",
      "1  18-Apr-15           1  21-Apr-15  05-Mar-14           5   500000\n",
      "2  18-Apr-15           1  21-Apr-15  05-Mar-14           0    50000\n",
      "3  18-Apr-15           1  21-Apr-15  22-Feb-14          10    50000\n",
      "4  18-Apr-15           1  21-Apr-15  11-Jun-13          10     1000\n"
     ]
    }
   ],
   "source": [
    "for table_content in table_contents:\n",
    "    \n",
    "    print(table_content.head(5))"
   ]
  },
  {
   "cell_type": "code",
   "execution_count": 7,
   "metadata": {},
   "outputs": [
    {
     "name": "stdout",
     "output_type": "stream",
     "text": [
      "Cust_Account\n",
      "Index(['dt_opened', 'customer_no', 'upload_dt', 'acct_type', 'owner_indic',\n",
      "       'opened_dt', 'last_paymt_dt', 'closed_dt', 'reporting_dt',\n",
      "       'high_credit_amt', 'cur_balance_amt', 'amt_past_due', 'paymenthistory1',\n",
      "       'paymenthistory2', 'paymt_str_dt', 'paymt_end_dt', 'creditlimit',\n",
      "       'cashlimit', 'rateofinterest', 'paymentfrequency',\n",
      "       'actualpaymentamount'],\n",
      "      dtype='object')\n",
      "Cust_Demographics\n",
      "Index(['dt_opened', 'customer_no', 'entry_time', 'feature_1', 'feature_2',\n",
      "       'feature_3', 'feature_4', 'feature_5', 'feature_6', 'feature_7',\n",
      "       'feature_8', 'feature_9', 'feature_10', 'feature_11', 'feature_12',\n",
      "       'feature_13', 'feature_14', 'feature_15', 'feature_16', 'feature_17',\n",
      "       'feature_18', 'feature_19', 'feature_20', 'feature_21', 'feature_22',\n",
      "       'feature_23', 'feature_24', 'feature_25', 'feature_26', 'feature_27',\n",
      "       'feature_28', 'feature_29', 'feature_30', 'feature_31', 'feature_32',\n",
      "       'feature_33', 'feature_34', 'feature_35', 'feature_36', 'feature_37',\n",
      "       'feature_38', 'feature_39', 'feature_40', 'feature_41', 'feature_42',\n",
      "       'feature_43', 'feature_44', 'feature_45', 'feature_46', 'feature_47',\n",
      "       'feature_48', 'feature_49', 'feature_50', 'feature_51', 'feature_52',\n",
      "       'feature_53', 'feature_54', 'feature_55', 'feature_56', 'feature_57',\n",
      "       'feature_58', 'feature_59', 'feature_60', 'feature_61', 'feature_62',\n",
      "       'feature_63', 'feature_64', 'feature_65', 'feature_66', 'feature_67',\n",
      "       'feature_68', 'feature_69', 'feature_70', 'feature_71', 'feature_72',\n",
      "       'feature_73', 'feature_74', 'feature_75', 'feature_76', 'feature_77',\n",
      "       'feature_78', 'feature_79', 'Bad_label'],\n",
      "      dtype='object')\n",
      "Cust_Enquiry\n",
      "Index(['dt_opened', 'customer_no', 'upload_dt', 'enquiry_dt', 'enq_purpose',\n",
      "       'enq_amt'],\n",
      "      dtype='object')\n"
     ]
    }
   ],
   "source": [
    "for table_name, table_content in zip(conn.table_names(), table_contents):\n",
    "    print(table_name)\n",
    "    print(table_content.columns)\n",
    "    "
   ]
  },
  {
   "cell_type": "code",
   "execution_count": 8,
   "metadata": {},
   "outputs": [
    {
     "data": {
      "text/plain": [
       "customer_no    object\n",
       "dt_opened      object\n",
       "dtype: object"
      ]
     },
     "execution_count": 8,
     "metadata": {},
     "output_type": "execute_result"
    }
   ],
   "source": [
    "table_contents[0].dtypes[['customer_no', 'dt_opened']]"
   ]
  },
  {
   "cell_type": "code",
   "execution_count": 9,
   "metadata": {},
   "outputs": [
    {
     "data": {
      "text/plain": [
       "customer_no    object\n",
       "dt_opened      object\n",
       "dtype: object"
      ]
     },
     "execution_count": 9,
     "metadata": {},
     "output_type": "execute_result"
    }
   ],
   "source": [
    "table_contents[1].dtypes[['customer_no', 'dt_opened']]"
   ]
  },
  {
   "cell_type": "code",
   "execution_count": 10,
   "metadata": {},
   "outputs": [
    {
     "data": {
      "text/plain": [
       "{'customer_no', 'dt_opened'}"
      ]
     },
     "execution_count": 10,
     "metadata": {},
     "output_type": "execute_result"
    }
   ],
   "source": [
    "set(table_contents[0].columns).intersection(table_contents[1].columns)"
   ]
  },
  {
   "cell_type": "code",
   "execution_count": 11,
   "metadata": {
    "scrolled": true
   },
   "outputs": [],
   "source": [
    "data_joined = pd.concat([table_contents[0], table_contents[1], table_contents[2]], join='outer')"
   ]
  },
  {
   "cell_type": "code",
   "execution_count": 12,
   "metadata": {},
   "outputs": [
    {
     "data": {
      "text/plain": [
       "(623413, 105)"
      ]
     },
     "execution_count": 12,
     "metadata": {},
     "output_type": "execute_result"
    }
   ],
   "source": [
    "data_joined.shape"
   ]
  },
  {
   "cell_type": "code",
   "execution_count": 13,
   "metadata": {},
   "outputs": [
    {
     "data": {
      "text/plain": [
       "array(['0', '1', nan], dtype=object)"
      ]
     },
     "execution_count": 13,
     "metadata": {},
     "output_type": "execute_result"
    }
   ],
   "source": [
    "data_joined['Bad_label'].sort_values().unique()"
   ]
  },
  {
   "cell_type": "code",
   "execution_count": 14,
   "metadata": {},
   "outputs": [
    {
     "data": {
      "text/plain": [
       "599517"
      ]
     },
     "execution_count": 14,
     "metadata": {},
     "output_type": "execute_result"
    }
   ],
   "source": [
    "data_joined['Bad_label'].isnull().sum()"
   ]
  },
  {
   "cell_type": "code",
   "execution_count": 15,
   "metadata": {},
   "outputs": [
    {
     "name": "stdout",
     "output_type": "stream",
     "text": [
      "(0,      a    b    c  id  label\n",
      "0   a0  NaN  NaN   0    NaN\n",
      "3   a0  NaN  NaN   0    NaN\n",
      "0  NaN   b0  NaN   0    0.0\n",
      "2  NaN   b0  NaN   0    0.0\n",
      "0  NaN  NaN   c0   0    NaN)\n",
      "(1,      a    b    c  id  label\n",
      "1   a1  NaN  NaN   1    NaN\n",
      "4   a1  NaN  NaN   1    NaN\n",
      "1  NaN   b1  NaN   1    1.0\n",
      "3  NaN   b1  NaN   1    1.0\n",
      "1  NaN  NaN   c1   1    NaN)\n",
      "(2,     a    b    c  id  label\n",
      "2  a2  NaN  NaN   2    NaN)\n"
     ]
    }
   ],
   "source": [
    "a = pd.DataFrame({\n",
    " 'id': [0, 1, 2, 0 , 1],\n",
    "    'a': ['a0', 'a1', 'a2', 'a0', 'a1']\n",
    "})\n",
    "\n",
    "b = pd.DataFrame({\n",
    "    'id': [0, 1, 0 , 1],\n",
    "    'b': ['b0', 'b1', 'b0', 'b1'],\n",
    "    'label': [0, 1, 0, 1]\n",
    "})\n",
    "\n",
    "c = pd.DataFrame({\n",
    "    'id': [0, 1],\n",
    "    'c': ['c0', 'c1']\n",
    "})\n",
    "\n",
    "d = pd.concat([a, b,c ], join='outer')\n",
    "for i in d.groupby('id'):\n",
    "    print(i)"
   ]
  },
  {
   "cell_type": "code",
   "execution_count": 16,
   "metadata": {},
   "outputs": [
    {
     "data": {
      "text/html": [
       "<div>\n",
       "<style scoped>\n",
       "    .dataframe tbody tr th:only-of-type {\n",
       "        vertical-align: middle;\n",
       "    }\n",
       "\n",
       "    .dataframe tbody tr th {\n",
       "        vertical-align: top;\n",
       "    }\n",
       "\n",
       "    .dataframe thead th {\n",
       "        text-align: right;\n",
       "    }\n",
       "</style>\n",
       "<table border=\"1\" class=\"dataframe\">\n",
       "  <thead>\n",
       "    <tr style=\"text-align: right;\">\n",
       "      <th></th>\n",
       "      <th>a</th>\n",
       "      <th>b</th>\n",
       "      <th>c</th>\n",
       "      <th>label</th>\n",
       "    </tr>\n",
       "    <tr>\n",
       "      <th>id</th>\n",
       "      <th></th>\n",
       "      <th></th>\n",
       "      <th></th>\n",
       "      <th></th>\n",
       "    </tr>\n",
       "  </thead>\n",
       "  <tbody>\n",
       "    <tr>\n",
       "      <th>0</th>\n",
       "      <td>[a0, a0, nan, nan, nan]</td>\n",
       "      <td>[nan, nan, b0, b0, nan]</td>\n",
       "      <td>[nan, nan, nan, nan, c0]</td>\n",
       "      <td>[nan, nan, 0.0, 0.0, nan]</td>\n",
       "    </tr>\n",
       "    <tr>\n",
       "      <th>1</th>\n",
       "      <td>[a1, a1, nan, nan, nan]</td>\n",
       "      <td>[nan, nan, b1, b1, nan]</td>\n",
       "      <td>[nan, nan, nan, nan, c1]</td>\n",
       "      <td>[nan, nan, 1.0, 1.0, nan]</td>\n",
       "    </tr>\n",
       "    <tr>\n",
       "      <th>2</th>\n",
       "      <td>[a2]</td>\n",
       "      <td>[nan]</td>\n",
       "      <td>[nan]</td>\n",
       "      <td>[nan]</td>\n",
       "    </tr>\n",
       "  </tbody>\n",
       "</table>\n",
       "</div>"
      ],
      "text/plain": [
       "                          a                        b  \\\n",
       "id                                                     \n",
       "0   [a0, a0, nan, nan, nan]  [nan, nan, b0, b0, nan]   \n",
       "1   [a1, a1, nan, nan, nan]  [nan, nan, b1, b1, nan]   \n",
       "2                      [a2]                    [nan]   \n",
       "\n",
       "                           c                      label  \n",
       "id                                                       \n",
       "0   [nan, nan, nan, nan, c0]  [nan, nan, 0.0, 0.0, nan]  \n",
       "1   [nan, nan, nan, nan, c1]  [nan, nan, 1.0, 1.0, nan]  \n",
       "2                      [nan]                      [nan]  "
      ]
     },
     "execution_count": 16,
     "metadata": {},
     "output_type": "execute_result"
    }
   ],
   "source": [
    "e = d.groupby('id').agg(list)\n",
    "e"
   ]
  },
  {
   "cell_type": "code",
   "execution_count": 17,
   "metadata": {},
   "outputs": [
    {
     "data": {
      "text/html": [
       "<div>\n",
       "<style scoped>\n",
       "    .dataframe tbody tr th:only-of-type {\n",
       "        vertical-align: middle;\n",
       "    }\n",
       "\n",
       "    .dataframe tbody tr th {\n",
       "        vertical-align: top;\n",
       "    }\n",
       "\n",
       "    .dataframe thead th {\n",
       "        text-align: right;\n",
       "    }\n",
       "</style>\n",
       "<table border=\"1\" class=\"dataframe\">\n",
       "  <thead>\n",
       "    <tr style=\"text-align: right;\">\n",
       "      <th></th>\n",
       "      <th>a</th>\n",
       "      <th>b</th>\n",
       "      <th>c</th>\n",
       "      <th>label</th>\n",
       "    </tr>\n",
       "    <tr>\n",
       "      <th>id</th>\n",
       "      <th></th>\n",
       "      <th></th>\n",
       "      <th></th>\n",
       "      <th></th>\n",
       "    </tr>\n",
       "  </thead>\n",
       "  <tbody>\n",
       "    <tr>\n",
       "      <th>0</th>\n",
       "      <td>[a0, a0, nan, nan, nan]</td>\n",
       "      <td>[nan, nan, b0, b0, nan]</td>\n",
       "      <td>[nan, nan, nan, nan, c0]</td>\n",
       "      <td>[nan, nan, 0.0, 0.0, nan]</td>\n",
       "    </tr>\n",
       "    <tr>\n",
       "      <th>1</th>\n",
       "      <td>[a1, a1, nan, nan, nan]</td>\n",
       "      <td>[nan, nan, b1, b1, nan]</td>\n",
       "      <td>[nan, nan, nan, nan, c1]</td>\n",
       "      <td>[nan, nan, 1.0, 1.0, nan]</td>\n",
       "    </tr>\n",
       "    <tr>\n",
       "      <th>2</th>\n",
       "      <td>[a2]</td>\n",
       "      <td>[nan]</td>\n",
       "      <td>[nan]</td>\n",
       "      <td>[nan]</td>\n",
       "    </tr>\n",
       "  </tbody>\n",
       "</table>\n",
       "</div>"
      ],
      "text/plain": [
       "                          a                        b  \\\n",
       "id                                                     \n",
       "0   [a0, a0, nan, nan, nan]  [nan, nan, b0, b0, nan]   \n",
       "1   [a1, a1, nan, nan, nan]  [nan, nan, b1, b1, nan]   \n",
       "2                      [a2]                    [nan]   \n",
       "\n",
       "                           c                      label  \n",
       "id                                                       \n",
       "0   [nan, nan, nan, nan, c0]  [nan, nan, 0.0, 0.0, nan]  \n",
       "1   [nan, nan, nan, nan, c1]  [nan, nan, 1.0, 1.0, nan]  \n",
       "2                      [nan]                      [nan]  "
      ]
     },
     "execution_count": 17,
     "metadata": {},
     "output_type": "execute_result"
    }
   ],
   "source": [
    "e"
   ]
  },
  {
   "cell_type": "code",
   "execution_count": 18,
   "metadata": {},
   "outputs": [],
   "source": [
    "data = data_joined.groupby('customer_no').agg(list)"
   ]
  },
  {
   "cell_type": "code",
   "execution_count": 19,
   "metadata": {},
   "outputs": [
    {
     "data": {
      "text/plain": [
       "(23896, 104)"
      ]
     },
     "execution_count": 19,
     "metadata": {},
     "output_type": "execute_result"
    }
   ],
   "source": [
    "data.shape"
   ]
  },
  {
   "cell_type": "code",
   "execution_count": 20,
   "metadata": {},
   "outputs": [
    {
     "data": {
      "text/plain": [
       "1"
      ]
     },
     "execution_count": 20,
     "metadata": {},
     "output_type": "execute_result"
    }
   ],
   "source": [
    "x = pd.Series(data.iloc[6]['Bad_label'])\n",
    "pd.to_numeric(x[x.notnull()]).max()\n",
    "        "
   ]
  },
  {
   "cell_type": "code",
   "execution_count": 21,
   "metadata": {
    "scrolled": true
   },
   "outputs": [
    {
     "name": "stdout",
     "output_type": "stream",
     "text": [
      "Bad_label\n",
      "[nan, nan, nan, nan, nan, nan, nan, nan, nan, nan, nan, nan, nan, nan, nan, nan, nan, nan, '0', nan, nan, nan, nan, nan, nan, nan, nan, nan, nan, nan, nan, nan, nan, nan, nan, nan, nan]\n",
      "acct_type\n",
      "['10', '10', '10', '10', '10', '10', '2', '2', '5', '6', '2', '2', '10', '10', '5', '5', '6', '6', nan, nan, nan, nan, nan, nan, nan, nan, nan, nan, nan, nan, nan, nan, nan, nan, nan, nan, nan]\n",
      "actualpaymentamount\n",
      "['', '25100', '', '', '', '45986', '', '', '', '', '', '', '', '', '', '', '', '', nan, nan, nan, nan, nan, nan, nan, nan, nan, nan, nan, nan, nan, nan, nan, nan, nan, nan, nan]\n",
      "amt_past_due\n",
      "['2528846', '', '', '', '', '', '', '', '', '', '', '', '', '9363', '', '', '', '', nan, nan, nan, nan, nan, nan, nan, nan, nan, nan, nan, nan, nan, nan, nan, nan, nan, nan, nan]\n",
      "cashlimit\n",
      "['', '', '', '', '', '168000', '', '', '', '', '', '', '', '', '', '', '', '', nan, nan, nan, nan, nan, nan, nan, nan, nan, nan, nan, nan, nan, nan, nan, nan, nan, nan, nan]\n",
      "closed_dt\n",
      "['', '', '05-Mar-09', '08-Jan-07', '03-May-10', '', '', '', '02-Jan-07', '21-Sep-12', '', '29-Dec-11', '24-Jun-04', '18-Mar-03', '23-Jan-03', '07-Jun-01', '30-Apr-98', '20-Jun-96', nan, nan, nan, nan, nan, nan, nan, nan, nan, nan, nan, nan, nan, nan, nan, nan, nan, nan, nan]\n",
      "creditlimit\n",
      "['', '250000', '', '', '', '420000', '', '', '', '', '', '', '', '', '', '', '', '', nan, nan, nan, nan, nan, nan, nan, nan, nan, nan, nan, nan, nan, nan, nan, nan, nan, nan, nan]\n",
      "cur_balance_amt\n",
      "['2528846', '58882', '0', '0', '0', '37598', '325490', '1754678', '0', '0', '0', '0', '0', '9363', '0', '0', '0', '0', nan, nan, nan, nan, nan, nan, nan, nan, nan, nan, nan, nan, nan, nan, nan, nan, nan, nan, nan]\n",
      "dt_opened\n",
      "['18-Apr-15', '18-Apr-15', '18-Apr-15', '18-Apr-15', '18-Apr-15', '18-Apr-15', '18-Apr-15', '18-Apr-15', '18-Apr-15', '18-Apr-15', '18-Apr-15', '18-Apr-15', '18-Apr-15', '18-Apr-15', '18-Apr-15', '18-Apr-15', '18-Apr-15', '18-Apr-15', '18-Apr-15', '18-Apr-15', '18-Apr-15', '18-Apr-15', '18-Apr-15', '18-Apr-15', '18-Apr-15', '18-Apr-15', '18-Apr-15', '18-Apr-15', '18-Apr-15', '18-Apr-15', '18-Apr-15', '18-Apr-15', '18-Apr-15', '18-Apr-15', '18-Apr-15', '18-Apr-15', '18-Apr-15']\n",
      "enq_amt\n",
      "[nan, nan, nan, nan, nan, nan, nan, nan, nan, nan, nan, nan, nan, nan, nan, nan, nan, nan, nan, '3500000', '500000', '50000', '50000', '1000', '1000', '1000', '1000', '1000', '150', '50000', '100000', '300000', '50000', '50000', '1000', '25000', '300000']\n",
      "enq_purpose\n",
      "[nan, nan, nan, nan, nan, nan, nan, nan, nan, nan, nan, nan, nan, nan, nan, nan, nan, nan, nan, '2', '5', '0', '10', '10', '10', '10', '10', '10', '10', '10', '10', '10', '0', '10', '10', '10', '10']\n",
      "enquiry_dt\n",
      "[nan, nan, nan, nan, nan, nan, nan, nan, nan, nan, nan, nan, nan, nan, nan, nan, nan, nan, nan, '19-Dec-14', '05-Mar-14', '05-Mar-14', '22-Feb-14', '11-Jun-13', '08-Feb-13', '30-Nov-12', '30-May-12', '24-May-11', '10-Nov-10', '15-Apr-10', '29-Apr-09', '28-Feb-09', '17-Dec-08', '08-Dec-08', '06-Dec-08', '25-Jul-08', '27-May-08']\n",
      "entry_time\n",
      "[nan, nan, nan, nan, nan, nan, nan, nan, nan, nan, nan, nan, nan, nan, nan, nan, nan, nan, '13-Apr-15', nan, nan, nan, nan, nan, nan, nan, nan, nan, nan, nan, nan, nan, nan, nan, nan, nan, nan]\n",
      "feature_1\n",
      "[nan, nan, nan, nan, nan, nan, nan, nan, nan, nan, nan, nan, nan, nan, nan, nan, nan, nan, 'Insignia', nan, nan, nan, nan, nan, nan, nan, nan, nan, nan, nan, nan, nan, nan, nan, nan, nan, nan]\n",
      "feature_10\n",
      "[nan, nan, nan, nan, nan, nan, nan, nan, nan, nan, nan, nan, nan, nan, nan, nan, nan, nan, '', nan, nan, nan, nan, nan, nan, nan, nan, nan, nan, nan, nan, nan, nan, nan, nan, nan, nan]\n",
      "feature_11\n",
      "[nan, nan, nan, nan, nan, nan, nan, nan, nan, nan, nan, nan, nan, nan, nan, nan, nan, nan, 'Y', nan, nan, nan, nan, nan, nan, nan, nan, nan, nan, nan, nan, nan, nan, nan, nan, nan, nan]\n",
      "feature_12\n",
      "[nan, nan, nan, nan, nan, nan, nan, nan, nan, nan, nan, nan, nan, nan, nan, nan, nan, nan, 'IS1', nan, nan, nan, nan, nan, nan, nan, nan, nan, nan, nan, nan, nan, nan, nan, nan, nan, nan]\n",
      "feature_13\n",
      "[nan, nan, nan, nan, nan, nan, nan, nan, nan, nan, nan, nan, nan, nan, nan, nan, nan, nan, '', nan, nan, nan, nan, nan, nan, nan, nan, nan, nan, nan, nan, nan, nan, nan, nan, nan, nan]\n",
      "feature_14\n",
      "[nan, nan, nan, nan, nan, nan, nan, nan, nan, nan, nan, nan, nan, nan, nan, nan, nan, nan, '0', nan, nan, nan, nan, nan, nan, nan, nan, nan, nan, nan, nan, nan, nan, nan, nan, nan, nan]\n",
      "feature_15\n",
      "[nan, nan, nan, nan, nan, nan, nan, nan, nan, nan, nan, nan, nan, nan, nan, nan, nan, nan, '159', nan, nan, nan, nan, nan, nan, nan, nan, nan, nan, nan, nan, nan, nan, nan, nan, nan, nan]\n",
      "feature_16\n",
      "[nan, nan, nan, nan, nan, nan, nan, nan, nan, nan, nan, nan, nan, nan, nan, nan, nan, nan, '4284', nan, nan, nan, nan, nan, nan, nan, nan, nan, nan, nan, nan, nan, nan, nan, nan, nan, nan]\n",
      "feature_17\n",
      "[nan, nan, nan, nan, nan, nan, nan, nan, nan, nan, nan, nan, nan, nan, nan, nan, nan, nan, '4284', nan, nan, nan, nan, nan, nan, nan, nan, nan, nan, nan, nan, nan, nan, nan, nan, nan, nan]\n",
      "feature_18\n",
      "[nan, nan, nan, nan, nan, nan, nan, nan, nan, nan, nan, nan, nan, nan, nan, nan, nan, nan, '', nan, nan, nan, nan, nan, nan, nan, nan, nan, nan, nan, nan, nan, nan, nan, nan, nan, nan]\n",
      "feature_19\n",
      "[nan, nan, nan, nan, nan, nan, nan, nan, nan, nan, nan, nan, nan, nan, nan, nan, nan, nan, '1', nan, nan, nan, nan, nan, nan, nan, nan, nan, nan, nan, nan, nan, nan, nan, nan, nan, nan]\n",
      "feature_2\n",
      "[nan, nan, nan, nan, nan, nan, nan, nan, nan, nan, nan, nan, nan, nan, nan, nan, nan, nan, '13-Apr-15', nan, nan, nan, nan, nan, nan, nan, nan, nan, nan, nan, nan, nan, nan, nan, nan, nan, nan]\n",
      "feature_20\n",
      "[nan, nan, nan, nan, nan, nan, nan, nan, nan, nan, nan, nan, nan, nan, nan, nan, nan, nan, 'ADFPNXXXXX', nan, nan, nan, nan, nan, nan, nan, nan, nan, nan, nan, nan, nan, nan, nan, nan, nan, nan]\n",
      "feature_21\n",
      "[nan, nan, nan, nan, nan, nan, nan, nan, nan, nan, nan, nan, nan, nan, nan, nan, nan, nan, '03-Sep-65', nan, nan, nan, nan, nan, nan, nan, nan, nan, nan, nan, nan, nan, nan, nan, nan, nan, nan]\n",
      "feature_22\n",
      "[nan, nan, nan, nan, nan, nan, nan, nan, nan, nan, nan, nan, nan, nan, nan, nan, nan, nan, '98332XXXXX', nan, nan, nan, nan, nan, nan, nan, nan, nan, nan, nan, nan, nan, nan, nan, nan, nan, nan]\n",
      "feature_23\n",
      "[nan, nan, nan, nan, nan, nan, nan, nan, nan, nan, nan, nan, nan, nan, nan, nan, nan, nan, 'N', nan, nan, nan, nan, nan, nan, nan, nan, nan, nan, nan, nan, nan, nan, nan, nan, nan, nan]\n",
      "feature_24\n",
      "[nan, nan, nan, nan, nan, nan, nan, nan, nan, nan, nan, nan, nan, nan, nan, nan, nan, nan, '@REDIFFMAIL.COM', nan, nan, nan, nan, nan, nan, nan, nan, nan, nan, nan, nan, nan, nan, nan, nan, nan, nan]\n",
      "feature_25\n",
      "[nan, nan, nan, nan, nan, nan, nan, nan, nan, nan, nan, nan, nan, nan, nan, nan, nan, nan, '1', nan, nan, nan, nan, nan, nan, nan, nan, nan, nan, nan, nan, nan, nan, nan, nan, nan, nan]\n",
      "feature_26\n",
      "[nan, nan, nan, nan, nan, nan, nan, nan, nan, nan, nan, nan, nan, nan, nan, nan, nan, nan, '2', nan, nan, nan, nan, nan, nan, nan, nan, nan, nan, nan, nan, nan, nan, nan, nan, nan, nan]\n",
      "feature_27\n",
      "[nan, nan, nan, nan, nan, nan, nan, nan, nan, nan, nan, nan, nan, nan, nan, nan, nan, nan, '', nan, nan, nan, nan, nan, nan, nan, nan, nan, nan, nan, nan, nan, nan, nan, nan, nan, nan]\n",
      "feature_28\n",
      "[nan, nan, nan, nan, nan, nan, nan, nan, nan, nan, nan, nan, nan, nan, nan, nan, nan, nan, 'Mumbai / Navi Mumbai / Thane', nan, nan, nan, nan, nan, nan, nan, nan, nan, nan, nan, nan, nan, nan, nan, nan, nan, nan]\n",
      "feature_29\n",
      "[nan, nan, nan, nan, nan, nan, nan, nan, nan, nan, nan, nan, nan, nan, nan, nan, nan, nan, '400610', nan, nan, nan, nan, nan, nan, nan, nan, nan, nan, nan, nan, nan, nan, nan, nan, nan, nan]\n",
      "feature_3\n",
      "[nan, nan, nan, nan, nan, nan, nan, nan, nan, nan, nan, nan, nan, nan, nan, nan, nan, nan, '650', nan, nan, nan, nan, nan, nan, nan, nan, nan, nan, nan, nan, nan, nan, nan, nan, nan, nan]\n",
      "feature_30\n",
      "[nan, nan, nan, nan, nan, nan, nan, nan, nan, nan, nan, nan, nan, nan, nan, nan, nan, nan, '1965', nan, nan, nan, nan, nan, nan, nan, nan, nan, nan, nan, nan, nan, nan, nan, nan, nan, nan]\n",
      "feature_31\n",
      "[nan, nan, nan, nan, nan, nan, nan, nan, nan, nan, nan, nan, nan, nan, nan, nan, nan, nan, '0', nan, nan, nan, nan, nan, nan, nan, nan, nan, nan, nan, nan, nan, nan, nan, nan, nan, nan]\n",
      "feature_32\n",
      "[nan, nan, nan, nan, nan, nan, nan, nan, nan, nan, nan, nan, nan, nan, nan, nan, nan, nan, 'Self', nan, nan, nan, nan, nan, nan, nan, nan, nan, nan, nan, nan, nan, nan, nan, nan, nan, nan]\n",
      "feature_33\n",
      "[nan, nan, nan, nan, nan, nan, nan, nan, nan, nan, nan, nan, nan, nan, nan, nan, nan, nan, 'Y', nan, nan, nan, nan, nan, nan, nan, nan, nan, nan, nan, nan, nan, nan, nan, nan, nan, nan]\n",
      "feature_34\n",
      "[nan, nan, nan, nan, nan, nan, nan, nan, nan, nan, nan, nan, nan, nan, nan, nan, nan, nan, '2', nan, nan, nan, nan, nan, nan, nan, nan, nan, nan, nan, nan, nan, nan, nan, nan, nan, nan]\n",
      "feature_35\n",
      "[nan, nan, nan, nan, nan, nan, nan, nan, nan, nan, nan, nan, nan, nan, nan, nan, nan, nan, '90000', nan, nan, nan, nan, nan, nan, nan, nan, nan, nan, nan, nan, nan, nan, nan, nan, nan, nan]\n",
      "feature_36\n",
      "[nan, nan, nan, nan, nan, nan, nan, nan, nan, nan, nan, nan, nan, nan, nan, nan, nan, nan, '', nan, nan, nan, nan, nan, nan, nan, nan, nan, nan, nan, nan, nan, nan, nan, nan, nan, nan]\n",
      "feature_37\n",
      "[nan, nan, nan, nan, nan, nan, nan, nan, nan, nan, nan, nan, nan, nan, nan, nan, nan, nan, '', nan, nan, nan, nan, nan, nan, nan, nan, nan, nan, nan, nan, nan, nan, nan, nan, nan, nan]\n",
      "feature_38\n",
      "[nan, nan, nan, nan, nan, nan, nan, nan, nan, nan, nan, nan, nan, nan, nan, nan, nan, nan, '', nan, nan, nan, nan, nan, nan, nan, nan, nan, nan, nan, nan, nan, nan, nan, nan, nan, nan]\n",
      "feature_39\n",
      "[nan, nan, nan, nan, nan, nan, nan, nan, nan, nan, nan, nan, nan, nan, nan, nan, nan, nan, '0', nan, nan, nan, nan, nan, nan, nan, nan, nan, nan, nan, nan, nan, nan, nan, nan, nan, nan]\n",
      "feature_4\n",
      "[nan, nan, nan, nan, nan, nan, nan, nan, nan, nan, nan, nan, nan, nan, nan, nan, nan, nan, '2', nan, nan, nan, nan, nan, nan, nan, nan, nan, nan, nan, nan, nan, nan, nan, nan, nan, nan]\n",
      "feature_40\n",
      "[nan, nan, nan, nan, nan, nan, nan, nan, nan, nan, nan, nan, nan, nan, nan, nan, nan, nan, '0', nan, nan, nan, nan, nan, nan, nan, nan, nan, nan, nan, nan, nan, nan, nan, nan, nan, nan]\n",
      "feature_41\n",
      "[nan, nan, nan, nan, nan, nan, nan, nan, nan, nan, nan, nan, nan, nan, nan, nan, nan, nan, '0', nan, nan, nan, nan, nan, nan, nan, nan, nan, nan, nan, nan, nan, nan, nan, nan, nan, nan]\n",
      "feature_42\n",
      "[nan, nan, nan, nan, nan, nan, nan, nan, nan, nan, nan, nan, nan, nan, nan, nan, nan, nan, '0', nan, nan, nan, nan, nan, nan, nan, nan, nan, nan, nan, nan, nan, nan, nan, nan, nan, nan]\n",
      "feature_43\n",
      "[nan, nan, nan, nan, nan, nan, nan, nan, nan, nan, nan, nan, nan, nan, nan, nan, nan, nan, 'Mumbai', nan, nan, nan, nan, nan, nan, nan, nan, nan, nan, nan, nan, nan, nan, nan, nan, nan, nan]\n",
      "feature_44\n",
      "[nan, nan, nan, nan, nan, nan, nan, nan, nan, nan, nan, nan, nan, nan, nan, nan, nan, nan, '400059', nan, nan, nan, nan, nan, nan, nan, nan, nan, nan, nan, nan, nan, nan, nan, nan, nan, nan]\n",
      "feature_45\n",
      "[nan, nan, nan, nan, nan, nan, nan, nan, nan, nan, nan, nan, nan, nan, nan, nan, nan, nan, '@CODOGNOTTO.NET', nan, nan, nan, nan, nan, nan, nan, nan, nan, nan, nan, nan, nan, nan, nan, nan, nan, nan]\n",
      "feature_46\n",
      "[nan, nan, nan, nan, nan, nan, nan, nan, nan, nan, nan, nan, nan, nan, nan, nan, nan, nan, 'PAN Card', nan, nan, nan, nan, nan, nan, nan, nan, nan, nan, nan, nan, nan, nan, nan, nan, nan, nan]\n",
      "feature_47\n",
      "[nan, nan, nan, nan, nan, nan, nan, nan, nan, nan, nan, nan, nan, nan, nan, nan, nan, nan, 'ADFPNXXXXX', nan, nan, nan, nan, nan, nan, nan, nan, nan, nan, nan, nan, nan, nan, nan, nan, nan, nan]\n",
      "feature_48\n",
      "[nan, nan, nan, nan, nan, nan, nan, nan, nan, nan, nan, nan, nan, nan, nan, nan, nan, nan, 'The Ratnakar Bank Ltd.', nan, nan, nan, nan, nan, nan, nan, nan, nan, nan, nan, nan, nan, nan, nan, nan, nan, nan]\n",
      "feature_49\n",
      "[nan, nan, nan, nan, nan, nan, nan, nan, nan, nan, nan, nan, nan, nan, nan, nan, nan, nan, '', nan, nan, nan, nan, nan, nan, nan, nan, nan, nan, nan, nan, nan, nan, nan, nan, nan, nan]\n",
      "feature_5\n",
      "[nan, nan, nan, nan, nan, nan, nan, nan, nan, nan, nan, nan, nan, nan, nan, nan, nan, nan, 'Card Setup', nan, nan, nan, nan, nan, nan, nan, nan, nan, nan, nan, nan, nan, nan, nan, nan, nan, nan]\n",
      "feature_50\n",
      "[nan, nan, nan, nan, nan, nan, nan, nan, nan, nan, nan, nan, nan, nan, nan, nan, nan, nan, 'Y', nan, nan, nan, nan, nan, nan, nan, nan, nan, nan, nan, nan, nan, nan, nan, nan, nan, nan]\n",
      "feature_51\n",
      "[nan, nan, nan, nan, nan, nan, nan, nan, nan, nan, nan, nan, nan, nan, nan, nan, nan, nan, 'State Bank of India', nan, nan, nan, nan, nan, nan, nan, nan, nan, nan, nan, nan, nan, nan, nan, nan, nan, nan]\n",
      "feature_52\n",
      "[nan, nan, nan, nan, nan, nan, nan, nan, nan, nan, nan, nan, nan, nan, nan, nan, nan, nan, '0', nan, nan, nan, nan, nan, nan, nan, nan, nan, nan, nan, nan, nan, nan, nan, nan, nan, nan]\n",
      "feature_53\n",
      "[nan, nan, nan, nan, nan, nan, nan, nan, nan, nan, nan, nan, nan, nan, nan, nan, nan, nan, '01-Jun-13', nan, nan, nan, nan, nan, nan, nan, nan, nan, nan, nan, nan, nan, nan, nan, nan, nan, nan]\n",
      "feature_54\n",
      "[nan, nan, nan, nan, nan, nan, nan, nan, nan, nan, nan, nan, nan, nan, nan, nan, nan, nan, '17-Jun-16', nan, nan, nan, nan, nan, nan, nan, nan, nan, nan, nan, nan, nan, nan, nan, nan, nan, nan]\n",
      "feature_55\n",
      "[nan, nan, nan, nan, nan, nan, nan, nan, nan, nan, nan, nan, nan, nan, nan, nan, nan, nan, '1', nan, nan, nan, nan, nan, nan, nan, nan, nan, nan, nan, nan, nan, nan, nan, nan, nan, nan]\n",
      "feature_56\n",
      "[nan, nan, nan, nan, nan, nan, nan, nan, nan, nan, nan, nan, nan, nan, nan, nan, nan, nan, '21', nan, nan, nan, nan, nan, nan, nan, nan, nan, nan, nan, nan, nan, nan, nan, nan, nan, nan]\n",
      "feature_57\n",
      "[nan, nan, nan, nan, nan, nan, nan, nan, nan, nan, nan, nan, nan, nan, nan, nan, nan, nan, '', nan, nan, nan, nan, nan, nan, nan, nan, nan, nan, nan, nan, nan, nan, nan, nan, nan, nan]\n",
      "feature_58\n",
      "[nan, nan, nan, nan, nan, nan, nan, nan, nan, nan, nan, nan, nan, nan, nan, nan, nan, nan, 'Y', nan, nan, nan, nan, nan, nan, nan, nan, nan, nan, nan, nan, nan, nan, nan, nan, nan, nan]\n",
      "feature_59\n",
      "[nan, nan, nan, nan, nan, nan, nan, nan, nan, nan, nan, nan, nan, nan, nan, nan, nan, nan, 'Y', nan, nan, nan, nan, nan, nan, nan, nan, nan, nan, nan, nan, nan, nan, nan, nan, nan, nan]\n",
      "feature_6\n",
      "[nan, nan, nan, nan, nan, nan, nan, nan, nan, nan, nan, nan, nan, nan, nan, nan, nan, nan, '14', nan, nan, nan, nan, nan, nan, nan, nan, nan, nan, nan, nan, nan, nan, nan, nan, nan, nan]\n",
      "feature_60\n",
      "[nan, nan, nan, nan, nan, nan, nan, nan, nan, nan, nan, nan, nan, nan, nan, nan, nan, nan, 'N', nan, nan, nan, nan, nan, nan, nan, nan, nan, nan, nan, nan, nan, nan, nan, nan, nan, nan]\n",
      "feature_61\n",
      "[nan, nan, nan, nan, nan, nan, nan, nan, nan, nan, nan, nan, nan, nan, nan, nan, nan, nan, '', nan, nan, nan, nan, nan, nan, nan, nan, nan, nan, nan, nan, nan, nan, nan, nan, nan, nan]\n",
      "feature_62\n",
      "[nan, nan, nan, nan, nan, nan, nan, nan, nan, nan, nan, nan, nan, nan, nan, nan, nan, nan, 'Y', nan, nan, nan, nan, nan, nan, nan, nan, nan, nan, nan, nan, nan, nan, nan, nan, nan, nan]\n",
      "feature_63\n",
      "[nan, nan, nan, nan, nan, nan, nan, nan, nan, nan, nan, nan, nan, nan, nan, nan, nan, nan, '1965-0', nan, nan, nan, nan, nan, nan, nan, nan, nan, nan, nan, nan, nan, nan, nan, nan, nan, nan]\n",
      "feature_64\n",
      "[nan, nan, nan, nan, nan, nan, nan, nan, nan, nan, nan, nan, nan, nan, nan, nan, nan, nan, '21', nan, nan, nan, nan, nan, nan, nan, nan, nan, nan, nan, nan, nan, nan, nan, nan, nan, nan]\n",
      "feature_65\n",
      "[nan, nan, nan, nan, nan, nan, nan, nan, nan, nan, nan, nan, nan, nan, nan, nan, nan, nan, '15', nan, nan, nan, nan, nan, nan, nan, nan, nan, nan, nan, nan, nan, nan, nan, nan, nan, nan]\n",
      "feature_66\n",
      "[nan, nan, nan, nan, nan, nan, nan, nan, nan, nan, nan, nan, nan, nan, nan, nan, nan, nan, '400610', nan, nan, nan, nan, nan, nan, nan, nan, nan, nan, nan, nan, nan, nan, nan, nan, nan, nan]\n",
      "feature_67\n",
      "[nan, nan, nan, nan, nan, nan, nan, nan, nan, nan, nan, nan, nan, nan, nan, nan, nan, nan, '0', nan, nan, nan, nan, nan, nan, nan, nan, nan, nan, nan, nan, nan, nan, nan, nan, nan, nan]\n",
      "feature_68\n",
      "[nan, nan, nan, nan, nan, nan, nan, nan, nan, nan, nan, nan, nan, nan, nan, nan, nan, nan, '2', nan, nan, nan, nan, nan, nan, nan, nan, nan, nan, nan, nan, nan, nan, nan, nan, nan, nan]\n",
      "feature_69\n",
      "[nan, nan, nan, nan, nan, nan, nan, nan, nan, nan, nan, nan, nan, nan, nan, nan, nan, nan, '90000', nan, nan, nan, nan, nan, nan, nan, nan, nan, nan, nan, nan, nan, nan, nan, nan, nan, nan]\n",
      "feature_7\n",
      "[nan, nan, nan, nan, nan, nan, nan, nan, nan, nan, nan, nan, nan, nan, nan, nan, nan, nan, '500000', nan, nan, nan, nan, nan, nan, nan, nan, nan, nan, nan, nan, nan, nan, nan, nan, nan, nan]\n",
      "feature_70\n",
      "[nan, nan, nan, nan, nan, nan, nan, nan, nan, nan, nan, nan, nan, nan, nan, nan, nan, nan, 'Nov-00', nan, nan, nan, nan, nan, nan, nan, nan, nan, nan, nan, nan, nan, nan, nan, nan, nan, nan]\n",
      "feature_71\n",
      "[nan, nan, nan, nan, nan, nan, nan, nan, nan, nan, nan, nan, nan, nan, nan, nan, nan, nan, '21', nan, nan, nan, nan, nan, nan, nan, nan, nan, nan, nan, nan, nan, nan, nan, nan, nan, nan]\n",
      "feature_72\n",
      "[nan, nan, nan, nan, nan, nan, nan, nan, nan, nan, nan, nan, nan, nan, nan, nan, nan, nan, 'R', nan, nan, nan, nan, nan, nan, nan, nan, nan, nan, nan, nan, nan, nan, nan, nan, nan, nan]\n",
      "feature_73\n",
      "[nan, nan, nan, nan, nan, nan, nan, nan, nan, nan, nan, nan, nan, nan, nan, nan, nan, nan, '', nan, nan, nan, nan, nan, nan, nan, nan, nan, nan, nan, nan, nan, nan, nan, nan, nan, nan]\n",
      "feature_74\n",
      "[nan, nan, nan, nan, nan, nan, nan, nan, nan, nan, nan, nan, nan, nan, nan, nan, nan, nan, '', nan, nan, nan, nan, nan, nan, nan, nan, nan, nan, nan, nan, nan, nan, nan, nan, nan, nan]\n",
      "feature_75\n",
      "[nan, nan, nan, nan, nan, nan, nan, nan, nan, nan, nan, nan, nan, nan, nan, nan, nan, nan, '0000-00-00', nan, nan, nan, nan, nan, nan, nan, nan, nan, nan, nan, nan, nan, nan, nan, nan, nan, nan]\n",
      "feature_76\n",
      "[nan, nan, nan, nan, nan, nan, nan, nan, nan, nan, nan, nan, nan, nan, nan, nan, nan, nan, '0', nan, nan, nan, nan, nan, nan, nan, nan, nan, nan, nan, nan, nan, nan, nan, nan, nan, nan]\n",
      "feature_77\n",
      "[nan, nan, nan, nan, nan, nan, nan, nan, nan, nan, nan, nan, nan, nan, nan, nan, nan, nan, '98332XXXXX', nan, nan, nan, nan, nan, nan, nan, nan, nan, nan, nan, nan, nan, nan, nan, nan, nan, nan]\n",
      "feature_78\n",
      "[nan, nan, nan, nan, nan, nan, nan, nan, nan, nan, nan, nan, nan, nan, nan, nan, nan, nan, '1', nan, nan, nan, nan, nan, nan, nan, nan, nan, nan, nan, nan, nan, nan, nan, nan, nan, nan]\n",
      "feature_79\n",
      "[nan, nan, nan, nan, nan, nan, nan, nan, nan, nan, nan, nan, nan, nan, nan, nan, nan, nan, 'N', nan, nan, nan, nan, nan, nan, nan, nan, nan, nan, nan, nan, nan, nan, nan, nan, nan, nan]\n",
      "feature_8\n",
      "[nan, nan, nan, nan, nan, nan, nan, nan, nan, nan, nan, nan, nan, nan, nan, nan, nan, nan, '', nan, nan, nan, nan, nan, nan, nan, nan, nan, nan, nan, nan, nan, nan, nan, nan, nan, nan]\n",
      "feature_9\n",
      "[nan, nan, nan, nan, nan, nan, nan, nan, nan, nan, nan, nan, nan, nan, nan, nan, nan, nan, '', nan, nan, nan, nan, nan, nan, nan, nan, nan, nan, nan, nan, nan, nan, nan, nan, nan, nan]\n",
      "high_credit_amt\n",
      "['2528846', '125459', '139765', '', '171256', '290596', '2000000', '2000000', '93000', '14700', '', '200000', '211135', '', '75000', '27500', '11320', '11486', nan, nan, nan, nan, nan, nan, nan, nan, nan, nan, nan, nan, nan, nan, nan, nan, nan, nan, nan]\n",
      "last_paymt_dt\n",
      "['28-Feb-03', '03-Feb-15', '', '', '13-Apr-10', '07-Mar-15', '27-Sep-14', '02-Jun-06', '07-Dec-06', '15-May-02', '', '15-Sep-11', '20-Nov-03', '', '', '', '', '', nan, nan, nan, nan, nan, nan, nan, nan, nan, nan, nan, nan, nan, nan, nan, nan, nan, nan, nan]\n",
      "opened_dt\n",
      "['26-May-00', '28-Feb-14', '02-May-06', '12-Dec-05', '09-May-05', '09-May-05', '07-Feb-05', '07-Feb-05', '08-Dec-03', '13-Jun-01', '', '05-Dec-06', '06-Jan-01', '07-Nov-00', '31-Oct-99', '27-May-99', '27-Jul-96', '20-Jun-96', nan, nan, nan, nan, nan, nan, nan, nan, nan, nan, nan, nan, nan, nan, nan, nan, nan, nan, nan]\n",
      "owner_indic\n",
      "['1', '1', '1', '1', '1', '1', '1', '4', '1', '1', '1', '1', '1', '1', '1', '1', '1', '1', nan, nan, nan, nan, nan, nan, nan, nan, nan, nan, nan, nan, nan, nan, nan, nan, nan, nan, nan]\n",
      "paymentfrequency\n",
      "['', '3', '', '', '', '3', '3', '', '', '', '3', '3', '', '', '', '3', '3', '', nan, nan, nan, nan, nan, nan, nan, nan, nan, nan, nan, nan, nan, nan, nan, nan, nan, nan, nan]\n",
      "paymenthistory1\n",
      "['\"\"\"181181181181181181XXX181181181181181181181181181XXX181\"\"\"', '\"\"\"000000000000000000000000000000000000000\"\"\"', '\"\"\"000000000000000000000000000000000000000XXX000000000000\"\"\"', '\"\"\"STDSTDSTDXXXSTDSTDSTDSTDXXXXXXSTDSTDSTDSTD\"\"\"', '\"\"\"000000000000000000000000000000000000000000000000000000\"\"\"', '\"\"\"000000000000000000000000000000000000000000000000000000\"\"\"', '\"\"\"STDSTDSTDSTDSTDSTDSTDSTDSTDSTDSTDSTDSTDSTDSTDSTDSTDSTD\"\"\"', '\"\"\"000XXXXXX000XXXXXX000XXXXXX000\"\"\"', '\"\"\"000\"\"\"', '\"\"\"000000000000000000000000000000000000000000000000000000\"\"\"', '\"\"\"STD\"\"\"', '\"\"\"XXXXXXXXX000XXXXXX000XXXXXX000XXXXXX000XXXXXX000\"\"\"', '\"\"\"XXX\"\"\"', '\"\"\"XXX\"\"\"', '\"\"\"XXX\"\"\"', '\"\"\"XXX\"\"\"', '\"\"\"XXX\"\"\"', '\"\"\"XXX\"\"\"', nan, nan, nan, nan, nan, nan, nan, nan, nan, nan, nan, nan, nan, nan, nan, nan, nan, nan, nan]\n",
      "paymenthistory2\n",
      "['\"\"\"181181181XXXXXX181181XXXXXXXXXXXX181181181XXXXXXXXXXXX\"\"\"', '', '\"\"\"000000000\"\"\"', '', '\"\"\"000000000XXX000XXX000\"\"\"', '\"\"\"000000000000000000000000000000000000000000000000\"\"\"', '\"\"\"STDSTDSTDSTDSTDSTDXXXSTDSTDSTDSTDSTDSTDSTDXXXXXXXXX000\"\"\"', '', '', '\"\"\"000000000000XXX000XXX000XXX000XXX000000000XXX000000XXX\"\"\"', '', '', '', '', '', '', '', '', nan, nan, nan, nan, nan, nan, nan, nan, nan, nan, nan, nan, nan, nan, nan, nan, nan, nan, nan]\n",
      "paymt_end_dt\n",
      "['01-Mar-12', '01-Feb-14', '01-Jul-07', '01-Dec-05', '01-May-08', '01-Jun-12', '01-Mar-12', '01-Sep-05', '01-Jan-07', '01-Oct-09', '01-Jul-12', '01-Sep-10', '01-Jun-04', '01-Mar-03', '01-Jan-03', '01-Jun-01', '01-Apr-98', '01-Jun-96', nan, nan, nan, nan, nan, nan, nan, nan, nan, nan, nan, nan, nan, nan, nan, nan, nan, nan, nan]\n",
      "paymt_str_dt\n",
      "['01-Feb-15', '01-Feb-15', '01-Mar-09', '01-Jan-07', '01-May-10', '01-Mar-15', '01-Feb-15', '01-Jun-06', '01-Jan-07', '01-Sep-12', '01-Jul-12', '01-Dec-11', '01-Jun-04', '01-Mar-03', '01-Jan-03', '01-Jun-01', '01-Apr-98', '01-Jun-96', nan, nan, nan, nan, nan, nan, nan, nan, nan, nan, nan, nan, nan, nan, nan, nan, nan, nan, nan]\n",
      "rateofinterest\n",
      "['', '', '', '', '', '', '8', '', '', '', '8.75', '9.75', '', '', '', '27.469', '34.585', '', nan, nan, nan, nan, nan, nan, nan, nan, nan, nan, nan, nan, nan, nan, nan, nan, nan, nan, nan]\n",
      "reporting_dt\n",
      "['27-Feb-15', '28-Feb-15', '28-Feb-13', '31-Jul-07', '31-May-12', '13-Mar-15', '28-Feb-15', '30-Jun-06', '31-Dec-09', '30-Sep-12', '31-Jul-12', '31-Jul-12', '01-Oct-10', '19-Apr-10', '30-Sep-10', '31-Dec-12', '31-Dec-12', '30-Sep-10', nan, nan, nan, nan, nan, nan, nan, nan, nan, nan, nan, nan, nan, nan, nan, nan, nan, nan, nan]\n",
      "upload_dt\n",
      "['21-Apr-15', '21-Apr-15', '21-Apr-15', '21-Apr-15', '21-Apr-15', '21-Apr-15', '21-Apr-15', '21-Apr-15', '21-Apr-15', '21-Apr-15', '21-Apr-15', '21-Apr-15', '21-Apr-15', '21-Apr-15', '21-Apr-15', '21-Apr-15', '21-Apr-15', '21-Apr-15', nan, '21-Apr-15', '21-Apr-15', '21-Apr-15', '21-Apr-15', '21-Apr-15', '21-Apr-15', '21-Apr-15', '21-Apr-15', '21-Apr-15', '21-Apr-15', '21-Apr-15', '21-Apr-15', '21-Apr-15', '21-Apr-15', '21-Apr-15', '21-Apr-15', '21-Apr-15', '21-Apr-15']\n"
     ]
    }
   ],
   "source": [
    "for column in data.columns:\n",
    "    print(column)\n",
    "    print(data[column].head(1).iloc[0])"
   ]
  },
  {
   "cell_type": "code",
   "execution_count": 22,
   "metadata": {},
   "outputs": [
    {
     "data": {
      "text/plain": [
       "(23896,)"
      ]
     },
     "execution_count": 22,
     "metadata": {},
     "output_type": "execute_result"
    }
   ],
   "source": [
    "table_contents[0]['customer_no'].unique().shape"
   ]
  },
  {
   "cell_type": "code",
   "execution_count": 23,
   "metadata": {},
   "outputs": [
    {
     "data": {
      "text/plain": [
       "(23896,)"
      ]
     },
     "execution_count": 23,
     "metadata": {},
     "output_type": "execute_result"
    }
   ],
   "source": [
    "table_contents[1]['customer_no'].unique().shape"
   ]
  },
  {
   "cell_type": "code",
   "execution_count": 24,
   "metadata": {},
   "outputs": [
    {
     "data": {
      "text/plain": [
       "(23896,)"
      ]
     },
     "execution_count": 24,
     "metadata": {},
     "output_type": "execute_result"
    }
   ],
   "source": [
    "table_contents[2]['customer_no'].unique().shape"
   ]
  },
  {
   "cell_type": "code",
   "execution_count": 25,
   "metadata": {},
   "outputs": [],
   "source": [
    "data.to_csv(\"data/data_joined.csv\")"
   ]
  },
  {
   "cell_type": "code",
   "execution_count": 29,
   "metadata": {},
   "outputs": [
    {
     "name": "stdout",
     "output_type": "stream",
     "text": [
      "Cust_Account\n",
      "Cust_Demographics\n",
      "Cust_Enquiry\n"
     ]
    }
   ],
   "source": [
    "for table_name, table_content in zip(conn.table_names(), table_contents):\n",
    "    print(table_name)\n",
    "    table_content.to_csv(f\"data/{table_name}.csv\")"
   ]
  }
 ],
 "metadata": {
  "kernelspec": {
   "display_name": "Python 3",
   "language": "python",
   "name": "python3"
  },
  "language_info": {
   "codemirror_mode": {
    "name": "ipython",
    "version": 3
   },
   "file_extension": ".py",
   "mimetype": "text/x-python",
   "name": "python",
   "nbconvert_exporter": "python",
   "pygments_lexer": "ipython3",
   "version": "3.7.3"
  }
 },
 "nbformat": 4,
 "nbformat_minor": 2
}
